{
 "cells": [
  {
   "cell_type": "code",
   "execution_count": 1,
   "id": "78a9f48a-20fe-45d6-89f5-4c0fea34e39d",
   "metadata": {},
   "outputs": [
    {
     "name": "stderr",
     "output_type": "stream",
     "text": [
      "[nltk_data] Downloading package stopwords to\n",
      "[nltk_data]     C:\\Users\\DELL\\AppData\\Roaming\\nltk_data...\n",
      "[nltk_data]   Unzipping corpora\\stopwords.zip.\n"
     ]
    },
    {
     "name": "stdout",
     "output_type": "stream",
     "text": [
      "[########################################] | 100% Completed | 67m 22s\n",
      "✅ Full dataset cleaned and saved to new Parquet folder.\n"
     ]
    }
   ],
   "source": [
    "import dask.dataframe as dd\n",
    "import re\n",
    "from dask.diagnostics import ProgressBar\n",
    "import nltk\n",
    "from nltk.corpus import stopwords\n",
    "\n",
    "nltk.download('stopwords')\n",
    "stop_words = set(stopwords.words('english'))\n",
    "\n",
    "# Load Parquet\n",
    "df = dd.read_parquet('D:/jn/Amazon_cs_proj/Issue_categor_proj_Phase1/merged_parquet')\n",
    "\n",
    "# Drop rows where key fields are missing\n",
    "required_fields = ['review_body', 'review_headline', 'star_rating', 'product_category']\n",
    "df = df.dropna(subset=required_fields)\n",
    "\n",
    "# Fill or drop missing optional fields\n",
    "df['product_title'] = df['product_title'].fillna('unknown_title')\n",
    "df['verified_purchase'] = df['verified_purchase'].fillna('N')\n",
    "df['vine'] = df['vine'].fillna('N')\n",
    "df['review_date'] = df['review_date'].fillna('1900-01-01')\n",
    "\n",
    "# Define text cleaning function\n",
    "def clean_text(text):\n",
    "    if not isinstance(text, str):\n",
    "        return ''\n",
    "    text = text.lower()\n",
    "    text = re.sub(r'<.*?>', ' ', text)  # remove HTML\n",
    "    text = re.sub(r'http\\S+', '', text)  # remove URLs\n",
    "    text = re.sub(r'[^a-z\\s]', '', text)  # remove special chars\n",
    "    text = ' '.join([word for word in text.split() if word not in stop_words])\n",
    "    return text\n",
    "\n",
    "# Apply cleaning to multiple text columns\n",
    "df['cleaned_review_body'] = df['review_body'].map(clean_text, meta=('review_body', 'str'))\n",
    "df['cleaned_review_headline'] = df['review_headline'].map(clean_text, meta=('review_headline', 'str'))\n",
    "df['cleaned_product_title'] = df['product_title'].map(clean_text, meta=('product_title', 'str'))\n",
    "\n",
    "# Save cleaned data to new Parquet directory\n",
    "output_dir = 'D:/jn/Amazon_cs_proj/Issue_categor_proj_Phase1/cleaned_full_parquet'\n",
    "\n",
    "with ProgressBar():\n",
    "    df.to_parquet(output_dir, write_index=False)\n",
    "\n",
    "print(\"✅ Full dataset cleaned and saved to new Parquet folder.\")\n"
   ]
  },
  {
   "cell_type": "code",
   "execution_count": null,
   "id": "cb02c9e4-d3da-4c31-b9d9-294f4677f546",
   "metadata": {},
   "outputs": [],
   "source": []
  },
  {
   "cell_type": "code",
   "execution_count": null,
   "id": "12c67319-ebb0-4886-850d-3c84f9f1f6e9",
   "metadata": {},
   "outputs": [],
   "source": []
  },
  {
   "cell_type": "code",
   "execution_count": null,
   "id": "a0ee0587-027f-436d-b1b8-fa7910b7ee12",
   "metadata": {},
   "outputs": [],
   "source": []
  }
 ],
 "metadata": {
  "kernelspec": {
   "display_name": "Python (vaex_env)",
   "language": "python",
   "name": "vaex_env"
  },
  "language_info": {
   "codemirror_mode": {
    "name": "ipython",
    "version": 3
   },
   "file_extension": ".py",
   "mimetype": "text/x-python",
   "name": "python",
   "nbconvert_exporter": "python",
   "pygments_lexer": "ipython3",
   "version": "3.9.22"
  }
 },
 "nbformat": 4,
 "nbformat_minor": 5
}
