{
 "cells": [
  {
   "cell_type": "code",
   "execution_count": 2,
   "id": "0b8b7d69-7f10-4d1b-b1e2-20f7268f76e1",
   "metadata": {},
   "outputs": [
    {
     "data": {
      "text/html": [
       "<table>\n",
       "<thead>\n",
       "<tr><th>#                            </th><th>marketplace  </th><th style=\"text-align: right;\">  customer_id</th><th>review_id     </th><th>product_id  </th><th style=\"text-align: right;\">  product_parent</th><th>product_title                                      </th><th>product_category  </th><th style=\"text-align: right;\">  star_rating</th><th style=\"text-align: right;\">  helpful_votes</th><th style=\"text-align: right;\">  total_votes</th><th>vine  </th><th>verified_purchase  </th><th>review_date  </th><th>cleaned_review_body                                </th><th>cleaned_review_headline                       </th><th>cleaned_product_title                </th><th>combined_review                                    </th><th>tokens                                             </th></tr>\n",
       "</thead>\n",
       "<tbody>\n",
       "<tr><td><i style='opacity: 0.6'>0</i></td><td>US           </td><td style=\"text-align: right;\">  5.30964e+07</td><td>R63J84G1LOX6R </td><td>1563890119  </td><td style=\"text-align: right;\">     7.63188e+08</td><td>The Sandman Vol. 1: Preludes and Nocturnes         </td><td>Books             </td><td style=\"text-align: right;\">            4</td><td style=\"text-align: right;\">              0</td><td style=\"text-align: right;\">            1</td><td>N     </td><td>N                  </td><td>1995-08-13   </td><td>&#x27;first issues series starting point also contain...</td><td>ignore review                                 </td><td>sandman vol preludes nocturnes       </td><td>&#x27;ignore review first issues series starting poin...</td><td>&#x27;ignore review first issues series starting poin...</td></tr>\n",
       "<tr><td><i style='opacity: 0.6'>1</i></td><td>US           </td><td style=\"text-align: right;\">  5.30964e+07</td><td>R1BALOA11Z06MT</td><td>1559947608  </td><td style=\"text-align: right;\">     3.81721e+08</td><td>The 22 Immutable Laws of Marketing                 </td><td>Books             </td><td style=\"text-align: right;\">            4</td><td style=\"text-align: right;\">              0</td><td style=\"text-align: right;\">            0</td><td>N     </td><td>N                  </td><td>1995-08-17   </td><td>&#x27;ive always partial immutable laws tape entertai...</td><td>awesome                                       </td><td>immutable laws marketing             </td><td>&#x27;awesome ive always partial immutable laws tape ...</td><td>&#x27;awesome ive always partial immutable laws tape ...</td></tr>\n",
       "<tr><td><i style='opacity: 0.6'>2</i></td><td>US           </td><td style=\"text-align: right;\">  5.30963e+07</td><td>R1LLAY5W5PZUS4</td><td>0671701800  </td><td style=\"text-align: right;\">     8.6065e+08 </td><td>Contact                                            </td><td>Books             </td><td style=\"text-align: right;\">            5</td><td style=\"text-align: right;\">              1</td><td style=\"text-align: right;\">            2</td><td>N     </td><td>N                  </td><td>1995-08-30   </td><td>&#x27;book first contact aliens written prominent mem...</td><td>read book good                                </td><td>contact                              </td><td>&#x27;read book good book first contact aliens writte...</td><td>&#x27;read book good book first contact aliens writte...</td></tr>\n",
       "<tr><td><i style='opacity: 0.6'>3</i></td><td>US           </td><td style=\"text-align: right;\">  5.30963e+07</td><td>R3R9VTJ82FXECQ</td><td>0425132153  </td><td style=\"text-align: right;\">     6.2427e+08 </td><td>Good Omens                                         </td><td>Books             </td><td style=\"text-align: right;\">            5</td><td style=\"text-align: right;\">              0</td><td style=\"text-align: right;\">            0</td><td>N     </td><td>N                  </td><td>1995-09-11   </td><td>&#x27;quite possibly funniest book ever read terry pr...</td><td>funniest book ever written antichrist         </td><td>good omens                           </td><td>&#x27;funniest book ever written antichrist quite pos...</td><td>&#x27;funniest book ever written antichrist quite pos...</td></tr>\n",
       "<tr><td><i style='opacity: 0.6'>4</i></td><td>US           </td><td style=\"text-align: right;\">  5.17477e+07</td><td>R1P5J3FNBWTFXY</td><td>0517122707  </td><td style=\"text-align: right;\">     1.61411e+08</td><td>A Confederacy of Dunces                            </td><td>Books             </td><td style=\"text-align: right;\">            5</td><td style=\"text-align: right;\">              0</td><td style=\"text-align: right;\">            0</td><td>N     </td><td>N                  </td><td>1995-10-17   </td><td>&#x27;story behind book almost better work make mista...</td><td>winner didnt last mothers love remained       </td><td>confederacy dunces                   </td><td>&#x27;winner didnt last mothers love remained story b...</td><td>&#x27;winner didnt last mothers love remained story b...</td></tr>\n",
       "<tr><td><i style='opacity: 0.6'>5</i></td><td>US           </td><td style=\"text-align: right;\">  5.30959e+07</td><td>R2XQTCOBWNCEAC</td><td>0345350499  </td><td style=\"text-align: right;\">     6.27223e+08</td><td>The Mists of Avalon                                </td><td>Books             </td><td style=\"text-align: right;\">            5</td><td style=\"text-align: right;\">              0</td><td style=\"text-align: right;\">            0</td><td>N     </td><td>N                  </td><td>1995-11-02   </td><td>&#x27;marion zimmer bradley brings king arthurs court...</td><td>one best books ive ever read                  </td><td>mists avalon                         </td><td>&#x27;one best books ive ever read marion zimmer brad...</td><td>&#x27;one best books ive ever read marion zimmer brad...</td></tr>\n",
       "<tr><td><i style='opacity: 0.6'>6</i></td><td>US           </td><td style=\"text-align: right;\">  5.30965e+07</td><td>R87VUTMFOE6N  </td><td>B000002OTL  </td><td style=\"text-align: right;\">     8.77615e+08</td><td>Pulp Fiction: Music From The Motion Picture        </td><td>Music             </td><td style=\"text-align: right;\">            5</td><td style=\"text-align: right;\">              0</td><td style=\"text-align: right;\">            1</td><td>N     </td><td>N                  </td><td>1995-11-11   </td><td>&#x27;pulp fiction movie one favorite movies soundtra...</td><td>pulp fiction soundtrack excellent             </td><td>pulp fiction music motion picture    </td><td>&#x27;pulp fiction soundtrack excellent pulp fiction ...</td><td>&#x27;pulp fiction soundtrack excellent pulp fiction ...</td></tr>\n",
       "<tr><td><i style='opacity: 0.6'>7</i></td><td>US           </td><td style=\"text-align: right;\">  5.30965e+07</td><td>RVS529AN21RR3 </td><td>6302136105  </td><td style=\"text-align: right;\">     7.01401e+08</td><td>The Doors [VHS]                                    </td><td>Video             </td><td style=\"text-align: right;\">            5</td><td style=\"text-align: right;\">              1</td><td style=\"text-align: right;\">            2</td><td>N     </td><td>N                  </td><td>1995-11-11   </td><td>&#x27;doors one favorite movies val kilmer great acto...</td><td>doors best movie ever                         </td><td>doors vhs                            </td><td>&#x27;doors best movie ever doors one favorite movies...</td><td>&#x27;doors best movie ever doors one favorite movies...</td></tr>\n",
       "<tr><td><i style='opacity: 0.6'>8</i></td><td>US           </td><td style=\"text-align: right;\">  5.30957e+07</td><td>RG6LPC4W8LN29 </td><td>0399134204  </td><td style=\"text-align: right;\">     3.12879e+07</td><td>The Joy Luck Club                                  </td><td>Books             </td><td style=\"text-align: right;\">            5</td><td style=\"text-align: right;\">              0</td><td style=\"text-align: right;\">            1</td><td>N     </td><td>N                  </td><td>1995-11-15   </td><td>&#x27;book way another gives deeper view chinese set ...</td><td>gives deeper understanding chinese culture    </td><td>joy luck club                        </td><td>&#x27;gives deeper understanding chinese culture book...</td><td>&#x27;gives deeper understanding chinese culture book...</td></tr>\n",
       "<tr><td><i style='opacity: 0.6'>9</i></td><td>US           </td><td style=\"text-align: right;\">  5.30713e+07</td><td>RDFIE1IF0IYFH </td><td>0887306667  </td><td style=\"text-align: right;\">     3.81721e+08</td><td>&#x27;The 22 Immutable Laws of Marketing:  Violate Th...</td><td>Books             </td><td style=\"text-align: right;\">            5</td><td style=\"text-align: right;\">              0</td><td style=\"text-align: right;\">            0</td><td>N     </td><td>N                  </td><td>1996-05-12   </td><td>&#x27;book fast read covers strategic highlevel marke...</td><td>one best marketing books ever written timeless</td><td>immutable laws marketing violate risk</td><td>&#x27;one best marketing books ever written timeless ...</td><td>&#x27;one best marketing books ever written timeless ...</td></tr>\n",
       "</tbody>\n",
       "</table>"
      ],
      "text/plain": [
       "  #  marketplace      customer_id  review_id       product_id      product_parent  product_title                                        product_category      star_rating    helpful_votes    total_votes  vine    verified_purchase    review_date    cleaned_review_body                                  cleaned_review_headline                         cleaned_product_title                  combined_review                                      tokens\n",
       "  0  US               5.30964e+07  R63J84G1LOX6R   1563890119         7.63188e+08  The Sandman Vol. 1: Preludes and Nocturnes           Books                           4                0              1  N       N                    1995-08-13     'first issues series starting point also contain...  ignore review                                   sandman vol preludes nocturnes         'ignore review first issues series starting poin...  'ignore review first issues series starting poin...\n",
       "  1  US               5.30964e+07  R1BALOA11Z06MT  1559947608         3.81721e+08  The 22 Immutable Laws of Marketing                   Books                           4                0              0  N       N                    1995-08-17     'ive always partial immutable laws tape entertai...  awesome                                         immutable laws marketing               'awesome ive always partial immutable laws tape ...  'awesome ive always partial immutable laws tape ...\n",
       "  2  US               5.30963e+07  R1LLAY5W5PZUS4  0671701800         8.6065e+08   Contact                                              Books                           5                1              2  N       N                    1995-08-30     'book first contact aliens written prominent mem...  read book good                                  contact                                'read book good book first contact aliens writte...  'read book good book first contact aliens writte...\n",
       "  3  US               5.30963e+07  R3R9VTJ82FXECQ  0425132153         6.2427e+08   Good Omens                                           Books                           5                0              0  N       N                    1995-09-11     'quite possibly funniest book ever read terry pr...  funniest book ever written antichrist           good omens                             'funniest book ever written antichrist quite pos...  'funniest book ever written antichrist quite pos...\n",
       "  4  US               5.17477e+07  R1P5J3FNBWTFXY  0517122707         1.61411e+08  A Confederacy of Dunces                              Books                           5                0              0  N       N                    1995-10-17     'story behind book almost better work make mista...  winner didnt last mothers love remained         confederacy dunces                     'winner didnt last mothers love remained story b...  'winner didnt last mothers love remained story b...\n",
       "  5  US               5.30959e+07  R2XQTCOBWNCEAC  0345350499         6.27223e+08  The Mists of Avalon                                  Books                           5                0              0  N       N                    1995-11-02     'marion zimmer bradley brings king arthurs court...  one best books ive ever read                    mists avalon                           'one best books ive ever read marion zimmer brad...  'one best books ive ever read marion zimmer brad...\n",
       "  6  US               5.30965e+07  R87VUTMFOE6N    B000002OTL         8.77615e+08  Pulp Fiction: Music From The Motion Picture          Music                           5                0              1  N       N                    1995-11-11     'pulp fiction movie one favorite movies soundtra...  pulp fiction soundtrack excellent               pulp fiction music motion picture      'pulp fiction soundtrack excellent pulp fiction ...  'pulp fiction soundtrack excellent pulp fiction ...\n",
       "  7  US               5.30965e+07  RVS529AN21RR3   6302136105         7.01401e+08  The Doors [VHS]                                      Video                           5                1              2  N       N                    1995-11-11     'doors one favorite movies val kilmer great acto...  doors best movie ever                           doors vhs                              'doors best movie ever doors one favorite movies...  'doors best movie ever doors one favorite movies...\n",
       "  8  US               5.30957e+07  RG6LPC4W8LN29   0399134204         3.12879e+07  The Joy Luck Club                                    Books                           5                0              1  N       N                    1995-11-15     'book way another gives deeper view chinese set ...  gives deeper understanding chinese culture      joy luck club                          'gives deeper understanding chinese culture book...  'gives deeper understanding chinese culture book...\n",
       "  9  US               5.30713e+07  RDFIE1IF0IYFH   0887306667         3.81721e+08  'The 22 Immutable Laws of Marketing:  Violate Th...  Books                           5                0              0  N       N                    1996-05-12     'book fast read covers strategic highlevel marke...  one best marketing books ever written timeless  immutable laws marketing violate risk  'one best marketing books ever written timeless ...  'one best marketing books ever written timeless ..."
      ]
     },
     "execution_count": 2,
     "metadata": {},
     "output_type": "execute_result"
    }
   ],
   "source": [
    "import vaex\n",
    "import dask.dataframe as dd\n",
    "import pandas as pd\n",
    "import numpy as np\n",
    "import glob\n",
    "import os\n",
    "\n",
    "#def process_review_data(input_dir, output_dir, chunksize=100000):\n",
    "    \"\"\"\n",
    "    Processes review data from TSV files, handles large datasets, and saves to Parquet.\n",
    "\n",
    "    Args:\n",
    "        input_dir (str): Directory containing the input TSV files.\n",
    "        output_dir (str): Directory to save the output Parquet files.\n",
    "        chunksize (int, optional): Number of rows to process per chunk.\n",
    "            Useful for very large files to avoid memory issues. Defaults to 100000.\n",
    "    \"\"\"\n",
    "    # 1. Find all TSV files in the input directory\n",
    "    tsv_pattern = os.path.join(input_dir, \"*.tsv\")\n",
    "    tsv_files = glob.glob(tsv_pattern)\n",
    "\n",
    "    if not tsv_files:\n",
    "        print(f\"No TSV files found in: {input_dir}\")\n",
    "        return\n",
    "\n",
    "    print(f\"Found {len(tsv_files)} TSV files to process.\")\n",
    "\n",
    "    # 2. Process TSV files in chunks and convert to Parquet\n",
    "    parquet_files = []\n",
    "    for i, tsv_file in enumerate(tsv_files):\n",
    "        print(f\"Processing file: {tsv_file} ({i+1}/{len(tsv_files)})\")\n",
    "        # Use pandas to read TSV in chunks\n",
    "        for j, chunk in enumerate(pd.read_csv(tsv_file, sep='\\t', chunksize=chunksize)):\n",
    "            print(f\"  Processing chunk: {j+1}\")\n",
    "            # Convert chunk to Dask DataFrame\n",
    "            dask_chunk = dd.from_pandas(chunk, npartitions=1)  # Keep partitions low for chunks\n",
    "            # Create a unique filename for the Parquet chunk\n",
    "            parquet_chunk_path = os.path.join(output_dir, f\"review_chunk_{i}_{j}.parquet\")\n",
    "            # Save chunk to Parquet\n",
    "            dask_chunk.to_parquet(parquet_chunk_path, compression='snappy')  # Snappy is fast\n",
    "            parquet_files.append(parquet_chunk_path)\n",
    "\n",
    "    print(f\"Saved Parquet chunks to: {output_dir}\")\n",
    "\n",
    "    # 3. Load all Parquet chunks into a single Vaex DataFrame\n",
    "    print(\"Loading Parquet files into Vaex...\")\n",
    "    vaex_df = vaex.open(parquet_files)  # Vaex can handle a list of Parquet files\n",
    "\n",
    "    print(\"Vaex DataFrame loaded.\")\n",
    "    print(vaex_df.head()) #show the first few rows\n",
    "\n",
    "    # 4.  Example usage of the function\n",
    "if __name__ == \"__main__\":\n",
    "    # Create dummy tsv files\n",
    "    input_dir = \"input_data\"\n",
    "    output_dir = \"output_parquet\"\n",
    "    os.makedirs(input_dir, exist_ok=True)\n",
    "    os.makedirs(output_dir, exist_ok=True)"
   ]
  },
  {
   "cell_type": "code",
   "execution_count": null,
   "id": "3e2c5c06-10c6-4918-a894-dcc345ef0732",
   "metadata": {},
   "outputs": [],
   "source": []
  }
 ],
 "metadata": {
  "kernelspec": {
   "display_name": "Python (vaex_env)",
   "language": "python",
   "name": "vaex_env"
  },
  "language_info": {
   "codemirror_mode": {
    "name": "ipython",
    "version": 3
   },
   "file_extension": ".py",
   "mimetype": "text/x-python",
   "name": "python",
   "nbconvert_exporter": "python",
   "pygments_lexer": "ipython3",
   "version": "3.9.22"
  }
 },
 "nbformat": 4,
 "nbformat_minor": 5
}
